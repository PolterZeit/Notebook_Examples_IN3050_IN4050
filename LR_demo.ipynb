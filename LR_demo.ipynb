{
 "cells": [
  {
   "cell_type": "markdown",
   "id": "unnecessary-damages",
   "metadata": {},
   "source": [
    "![UiO Logo](https://www.uio.no/om/designmanual/images/1-2-3-logo-universitetet-i-oslo.jpg \"UiO Logo\")\n",
    "\n",
    "# Linear Regression Example\n",
    "by Marius Aasan (mariuaas$(\\alpha)$math$\\cdot$uio$\\cdot$no) - IN3050/4050 Group 3 - 22.02.2021 1015-1200\n",
    "\n",
    "This is an algebraic formulation of [Linear Regression](https://en.wikipedia.org/wiki/Linear_regression) using the [pseudoinverse](https://en.wikipedia.org/wiki/Generalized_inverse). In the mandatory assignment you will use gradient descent for linear regression."
   ]
  },
  {
   "cell_type": "code",
   "execution_count": 1,
   "id": "lasting-investor",
   "metadata": {},
   "outputs": [],
   "source": [
    "%matplotlib inline"
   ]
  },
  {
   "cell_type": "markdown",
   "id": "acting-election",
   "metadata": {},
   "source": [
    "Import our good old libraries :)"
   ]
  },
  {
   "cell_type": "code",
   "execution_count": 2,
   "id": "powerful-launch",
   "metadata": {},
   "outputs": [],
   "source": [
    "import numpy as np\n",
    "import matplotlib.pyplot as plt"
   ]
  },
  {
   "cell_type": "markdown",
   "id": "legendary-concentration",
   "metadata": {},
   "source": [
    "FIrstly, we generate some data. We define a one dimensional line $w x + w_0$ and add standard normal noise $\\varepsilon \\sim \\mathcal N (0, 1)$ such that our data is on the matrix form\n",
    "\n",
    "$$ \n",
    "\\begin{align}\n",
    "f(x) + \\varepsilon &= y \\\\\n",
    "Xw + w_0 + \\varepsilon &= y \\\\\n",
    "\\end{align}\n",
    "$$\n",
    "\n",
    "where the data is in a matrix $X$ on the form\n",
    "\n",
    "$$\n",
    "\\begin{bmatrix}\n",
    "x_{11} & x_{12} & \\dots & x_{1m} \\\\ \n",
    "x_{21} & x_{22} & \\dots & x_{2m} \\\\ \n",
    "\\dots  & \\dots & \\dots & \\dots\\\\\n",
    "x_{n1} & x_{n2} & \\dots & x_{nm} \\\\ \n",
    "\\end{bmatrix}.\n",
    "$$\n",
    "\n",
    "\n",
    "For a one dimensional problem, this is simply $w x + w_0 + \\varepsilon = y$, which by the properties of the normal distribution can be rewritten as a normal distribution with mean $\\mu = w x + w_0$, so we have a distribution $\\mathcal N (w x + w_0, 1)$. \n",
    "\n",
    "For a matrix formulation, we augment our data to generate a design matrix by\n",
    "$$\n",
    "\\begin{bmatrix}\n",
    "1 & x_{11} & x_{12} & \\dots & x_{1m} \\\\ \n",
    "1 & x_{21} & x_{22} & \\dots & x_{2m} \\\\ \n",
    "1 & \\dots  & \\dots & \\dots & \\dots\\\\\n",
    "1 & x_{n1} & x_{n2} & \\dots & x_{nm} \\\\ \n",
    "\\end{bmatrix}.\n",
    "$$\n",
    "\n",
    "so our weights $w$ includes our bias term $w_0$ yielding $w = [w_0, w_1, \\dots, w_m]^T$. To find these weights we then apply some matrix algebra\n",
    "\n",
    "$$\n",
    "\\begin{align}\n",
    "X \\hat w &= y \\\\\n",
    "X^T X \\hat w &= X^T y \\\\\n",
    "(X^T X)^{-1} (X^T X) \\hat w &= (X^T X)^{-1} X^T y \\\\\n",
    "\\hat w &= (X^T X)^{-1} X^T y \\\\\n",
    "\\end{align}\n",
    "$$\n",
    "\n",
    "The term $X^+ = (X^T X)^{-1} X^T$ is called the pseudoinverse. "
   ]
  },
  {
   "cell_type": "markdown",
   "id": "whole-joseph",
   "metadata": {},
   "source": [
    "For our data, we generate a simple one dimensional problem by $w_0 = 7.2, w_1 = -2.5$."
   ]
  },
  {
   "cell_type": "code",
   "execution_count": 3,
   "id": "signal-thumbnail",
   "metadata": {},
   "outputs": [],
   "source": [
    "x = np.linspace(0, 1, 200)\n",
    "eps = np.random.randn(200)\n",
    "\n",
    "w = np.array([7.2, -2.5])\n",
    "y = x * w[1] + eps + w[0]"
   ]
  },
  {
   "cell_type": "markdown",
   "id": "enabling-heart",
   "metadata": {},
   "source": [
    "Now we have a linear regression problem. Lets visualize the data and the solution we want to find."
   ]
  },
  {
   "cell_type": "code",
   "execution_count": 4,
   "id": "linear-bahamas",
   "metadata": {},
   "outputs": [
    {
     "data": {
      "text/plain": [
       "[<matplotlib.lines.Line2D at 0x1f3ef7f2708>]"
      ]
     },
     "execution_count": 4,
     "metadata": {},
     "output_type": "execute_result"
    },
    {
     "data": {
      "image/png": "[encoded data removed]",
      "text/plain": [
       "<Figure size 432x288 with 1 Axes>"
      ]
     },
     "metadata": {
      "needs_background": "light"
     },
     "output_type": "display_data"
    }
   ],
   "source": [
    "plt.scatter(x, y)\n",
    "plt.plot(x, x * w[1] + w[0], color=\"red\")"
   ]
  },
  {
   "cell_type": "markdown",
   "id": "paperback-soviet",
   "metadata": {},
   "source": [
    "Now we combine all our data and a vector of 1s to generate our design matrix."
   ]
  },
  {
   "cell_type": "code",
   "execution_count": 7,
   "id": "funky-delta",
   "metadata": {},
   "outputs": [],
   "source": [
    "X = np.vstack([np.ones(200), x]).T"
   ]
  },
  {
   "cell_type": "markdown",
   "id": "decreased-rogers",
   "metadata": {},
   "source": [
    "To make the data non-ordered, we shuffle the datapoints."
   ]
  },
  {
   "cell_type": "code",
   "execution_count": 8,
   "id": "adequate-shaft",
   "metadata": {},
   "outputs": [],
   "source": [
    "indices = np.random.choice(np.arange(200), size=200, replace=False)\n",
    "X = X[indices]\n",
    "y = y[indices]"
   ]
  },
  {
   "cell_type": "markdown",
   "id": "answering-literacy",
   "metadata": {},
   "source": [
    "Now we estimate our $\\hat w$ using the pseudoinverse."
   ]
  },
  {
   "cell_type": "code",
   "execution_count": 9,
   "id": "verbal-comedy",
   "metadata": {},
   "outputs": [],
   "source": [
    "what = np.linalg.inv(X.T @ X + 0.00001) @ X.T @ y"
   ]
  },
  {
   "cell_type": "markdown",
   "id": "popular-queens",
   "metadata": {},
   "source": [
    "That was it! Pretty simple right? How does it compare to our true weights?"
   ]
  },
  {
   "cell_type": "code",
   "execution_count": 10,
   "id": "intimate-steel",
   "metadata": {},
   "outputs": [
    {
     "name": "stdout",
     "output_type": "stream",
     "text": [
      "[ 7.2 -2.5]\n",
      "[ 7.14166717 -2.14408946]\n"
     ]
    }
   ],
   "source": [
    "print(w)\n",
    "print(what)"
   ]
  },
  {
   "cell_type": "markdown",
   "id": "continental-earth",
   "metadata": {},
   "source": [
    "Great! The estimates are quite accurate! Lastly, let's visualize our data."
   ]
  },
  {
   "cell_type": "code",
   "execution_count": 11,
   "id": "warming-egyptian",
   "metadata": {},
   "outputs": [
    {
     "data": {
      "text/plain": [
       "[<matplotlib.lines.Line2D at 0x1f3efe75a08>]"
      ]
     },
     "execution_count": 11,
     "metadata": {},
     "output_type": "execute_result"
    },
    {
     "data": {
      "image/png": "[encoded data removed]",
      "text/plain": [
       "<Figure size 432x288 with 1 Axes>"
      ]
     },
     "metadata": {
      "needs_background": "light"
     },
     "output_type": "display_data"
    }
   ],
   "source": [
    "plt.scatter(x, y)\n",
    "plt.plot(x, x * what[1] + what[0], color=\"red\")\n",
    "plt.plot(x, x * w[1] + w[0], \"--\", color=\"black\");"
   ]
  },
  {
   "cell_type": "markdown",
   "id": "useful-xerox",
   "metadata": {},
   "source": [
    "This is linear regression computed algebraically, sometimes called an Ordinary Least Squares (OLS) regression. "
   ]
  },
  {
   "cell_type": "code",
   "execution_count": null,
   "id": "excess-foundation",
   "metadata": {},
   "outputs": [],
   "source": []
  }
 ],
 "metadata": {
  "kernelspec": {
   "display_name": "Python 3",
   "language": "python",
   "name": "python3"
  },
  "language_info": {
   "codemirror_mode": {
    "name": "ipython",
    "version": 3
   },
   "file_extension": ".py",
   "mimetype": "text/x-python",
   "name": "python",
   "nbconvert_exporter": "python",
   "pygments_lexer": "ipython3",
   "version": "3.7.9"
  }
 },
 "nbformat": 4,
 "nbformat_minor": 5
}
