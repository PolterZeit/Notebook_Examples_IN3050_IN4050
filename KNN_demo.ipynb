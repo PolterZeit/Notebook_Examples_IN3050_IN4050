{
 "cells": [
  {
   "cell_type": "markdown",
   "id": "included-compiler",
   "metadata": {},
   "source": [
    "![UiO Logo](https://www.uio.no/om/designmanual/images/1-2-3-logo-universitetet-i-oslo.jpg \"UiO Logo\")\n",
    "\n",
    "# KNN Example\n",
    "by Marius Aasan (mariuaas$(\\alpha)$math$\\cdot$uio$\\cdot$no) - IN3050/4050 Group 3 - 22.02.2021 1015-1200\n",
    "\n",
    "This is the beginnings of a practical implementation of the KNN-algortithm, which only evaluates in-sample points. A full implementation must be generalized to evaluate points not previously seen in training, which will be part of the mandatory exercises. "
   ]
  },
  {
   "cell_type": "code",
   "execution_count": 1,
   "id": "descending-lancaster",
   "metadata": {},
   "outputs": [],
   "source": [
    "%matplotlib inline"
   ]
  },
  {
   "cell_type": "markdown",
   "id": "persistent-delivery",
   "metadata": {},
   "source": [
    "We import our old workhorses, numpy and matplotlib :)"
   ]
  },
  {
   "cell_type": "code",
   "execution_count": 2,
   "id": "derived-louisville",
   "metadata": {},
   "outputs": [],
   "source": [
    "import numpy as np\n",
    "import matplotlib.pyplot as plt"
   ]
  },
  {
   "cell_type": "markdown",
   "id": "amber-quebec",
   "metadata": {},
   "source": [
    "We start by synthesizing some data. We set a number of samples we want to create for each class."
   ]
  },
  {
   "cell_type": "code",
   "execution_count": 3,
   "id": "spectacular-fields",
   "metadata": {},
   "outputs": [],
   "source": [
    "n = 25"
   ]
  },
  {
   "cell_type": "markdown",
   "id": "selective-assist",
   "metadata": {},
   "source": [
    "To generate the two classes, we essentially sample from the standard normal distribution $\\mathcal N (0, 1)$ and apply an [affine transformation](https://en.wikipedia.org/wiki/Affine_transformation) to each so they overlap a little."
   ]
  },
  {
   "cell_type": "code",
   "execution_count": 4,
   "id": "constitutional-spouse",
   "metadata": {},
   "outputs": [],
   "source": [
    "cl0 = np.random.randn(n, 2) @ np.array([[1, -0.6],[1, 0.4]]) + np.array([-1, 0.8])\n",
    "cl1 = np.random.randn(n, 2) @ np.array([[0.7, 1], [0.8, 0.3]]) + np.array([0.5, -0.4])"
   ]
  },
  {
   "cell_type": "markdown",
   "id": "sunset-payday",
   "metadata": {},
   "source": [
    "Let's have a look at how the data is distributed."
   ]
  },
  {
   "cell_type": "code",
   "execution_count": 5,
   "id": "restricted-medication",
   "metadata": {},
   "outputs": [
    {
     "data": {
      "image/png": "[encoded data removed]",
      "text/plain": [
       "<Figure size 432x288 with 1 Axes>"
      ]
     },
     "metadata": {
      "needs_background": "light"
     },
     "output_type": "display_data"
    }
   ],
   "source": [
    "plt.scatter(cl0[:,0], cl0[:,1], color=\"red\", label=\"cl0\")\n",
    "plt.scatter(cl1[:,0], cl1[:,1], color=\"green\", label=\"cl1\")\n",
    "plt.legend();"
   ]
  },
  {
   "cell_type": "markdown",
   "id": "similar-picture",
   "metadata": {},
   "source": [
    "Pretty good! Now we want to add all the data together in an array and shuffle it. Remember, the `np.random.shuffle` function is always applied in-place."
   ]
  },
  {
   "cell_type": "code",
   "execution_count": 6,
   "id": "opening-produce",
   "metadata": {},
   "outputs": [],
   "source": [
    "cl0 = np.hstack([cl0, np.zeros((n,1))])\n",
    "cl1 = np.hstack([cl1, np.ones((n,1))])\n",
    "\n",
    "data = np.vstack([cl0, cl1])\n",
    "np.random.shuffle(data)"
   ]
  },
  {
   "cell_type": "markdown",
   "id": "armed-commodity",
   "metadata": {},
   "source": [
    "Now all our data is in a single matrix, and the last column is our binary classification. Click on the side to see how this looks."
   ]
  },
  {
   "cell_type": "code",
   "execution_count": 7,
   "id": "intensive-deployment",
   "metadata": {
    "collapsed": true,
    "jupyter": {
     "outputs_hidden": true
    }
   },
   "outputs": [
    {
     "data": {
      "text/plain": [
       "array([[-5.66292730e-01,  1.01194757e+00,  0.00000000e+00],\n",
       "       [ 6.44528814e-01, -8.27392828e-01,  1.00000000e+00],\n",
       "       [ 3.46839435e-01, -8.14689178e-01,  1.00000000e+00],\n",
       "       [-4.72051902e-01, -5.75783235e-02,  0.00000000e+00],\n",
       "       [ 1.81410028e-01, -1.08627800e+00,  1.00000000e+00],\n",
       "       [ 2.65547906e+00,  1.73873437e+00,  1.00000000e+00],\n",
       "       [ 1.01718815e+00,  5.57297777e-01,  1.00000000e+00],\n",
       "       [ 1.67672572e-01, -8.82226193e-01,  1.00000000e+00],\n",
       "       [-5.56028949e-01, -2.30931858e+00,  1.00000000e+00],\n",
       "       [-1.74108846e-01, -1.45072245e+00,  1.00000000e+00],\n",
       "       [ 3.99594040e-01,  1.53266187e+00,  0.00000000e+00],\n",
       "       [-1.67670665e+00,  6.95266249e-01,  0.00000000e+00],\n",
       "       [ 1.50800344e+00,  6.48879160e-01,  1.00000000e+00],\n",
       "       [-8.32378115e-01, -1.35413037e+00,  1.00000000e+00],\n",
       "       [ 1.58258841e+00,  1.06881850e+00,  1.00000000e+00],\n",
       "       [-2.24268701e+00,  5.29889288e-01,  0.00000000e+00],\n",
       "       [ 4.67217305e-01, -2.23896797e-01,  1.00000000e+00],\n",
       "       [ 2.19406848e+00,  1.25173197e+00,  1.00000000e+00],\n",
       "       [ 6.11141402e-02,  6.73660069e-01,  0.00000000e+00],\n",
       "       [-9.45508112e-01,  1.23663439e+00,  0.00000000e+00],\n",
       "       [-3.06903252e-01,  1.55025867e-03,  1.00000000e+00],\n",
       "       [ 7.83443703e-02, -1.36809642e+00,  1.00000000e+00],\n",
       "       [ 2.51494493e-01, -1.15122444e+00,  1.00000000e+00],\n",
       "       [-1.45941519e+00,  1.24864947e+00,  0.00000000e+00],\n",
       "       [-8.02444213e-01,  1.65222206e-01,  0.00000000e+00],\n",
       "       [-3.24116573e+00,  1.89757506e+00,  0.00000000e+00],\n",
       "       [ 7.60356431e-01, -6.75812226e-02,  1.00000000e+00],\n",
       "       [-4.77581394e-01,  2.30380433e+00,  0.00000000e+00],\n",
       "       [ 2.10448119e+00,  7.44058075e-01,  1.00000000e+00],\n",
       "       [-2.46072403e+00,  3.39410492e-01,  0.00000000e+00],\n",
       "       [-9.06594137e-01,  1.26774438e+00,  0.00000000e+00],\n",
       "       [-4.35580701e+00,  9.99413445e-01,  0.00000000e+00],\n",
       "       [-2.25810846e+00,  1.80752606e+00,  0.00000000e+00],\n",
       "       [ 9.82651510e-01,  4.26326014e-01,  0.00000000e+00],\n",
       "       [-3.64814212e-01,  8.51439660e-01,  0.00000000e+00],\n",
       "       [ 8.69706344e-01,  1.36550975e+00,  0.00000000e+00],\n",
       "       [ 1.43413646e-01,  1.34345031e-01,  0.00000000e+00],\n",
       "       [ 6.35662639e-01, -8.70962885e-01,  1.00000000e+00],\n",
       "       [ 3.41371700e-01, -1.84975044e-01,  1.00000000e+00],\n",
       "       [ 2.47382982e-01, -9.59441897e-01,  1.00000000e+00],\n",
       "       [-2.43377198e+00,  1.75020683e+00,  0.00000000e+00],\n",
       "       [-2.45598348e-01,  5.71442483e-01,  0.00000000e+00],\n",
       "       [-4.60471230e-01, -1.66685937e+00,  1.00000000e+00],\n",
       "       [ 7.06605785e-01,  6.17985401e-01,  1.00000000e+00],\n",
       "       [-1.03744821e+00,  3.58917088e-01,  0.00000000e+00],\n",
       "       [-1.48951979e+00, -2.31095879e+00,  1.00000000e+00],\n",
       "       [-2.56094579e+00,  1.04032054e+00,  0.00000000e+00],\n",
       "       [-3.13374616e-01,  2.11375754e+00,  0.00000000e+00],\n",
       "       [-1.13337626e+00,  2.33242849e+00,  0.00000000e+00],\n",
       "       [ 1.35161376e+00,  5.41359572e-01,  1.00000000e+00]])"
      ]
     },
     "execution_count": 7,
     "metadata": {},
     "output_type": "execute_result"
    }
   ],
   "source": [
    "data"
   ]
  },
  {
   "cell_type": "markdown",
   "id": "interior-sword",
   "metadata": {},
   "source": [
    "The next point of order is to create a distance function which can be applied to create a distance matrix for our data. We first make a naive Python implementation and see how long it takes to run."
   ]
  },
  {
   "cell_type": "code",
   "execution_count": 8,
   "id": "hispanic-surname",
   "metadata": {},
   "outputs": [
    {
     "name": "stdout",
     "output_type": "stream",
     "text": [
      "Wall time: 3.96 ms\n"
     ]
    }
   ],
   "source": [
    "%%time\n",
    "\n",
    "def distance(x, y):\n",
    "    return np.linalg.norm(y - x, 2)\n",
    "\n",
    "distances = -np.ones((n, n))\n",
    "for i in range(n):\n",
    "    for j in range(i, n):\n",
    "        dis = distance(data[i,:2], data[j,:2])\n",
    "        distances[i,j] = dis\n",
    "        distances[j,i] = dis"
   ]
  },
  {
   "cell_type": "markdown",
   "id": "simple-interest",
   "metadata": {},
   "source": [
    "Actually, SciPy has a very nice implementation for this exact problem. "
   ]
  },
  {
   "cell_type": "code",
   "execution_count": 9,
   "id": "first-typing",
   "metadata": {},
   "outputs": [],
   "source": [
    "from scipy.spatial import distance_matrix"
   ]
  },
  {
   "cell_type": "markdown",
   "id": "dated-yugoslavia",
   "metadata": {},
   "source": [
    "This is a lot faster than our naive implementation."
   ]
  },
  {
   "cell_type": "code",
   "execution_count": 10,
   "id": "breathing-opinion",
   "metadata": {},
   "outputs": [
    {
     "name": "stdout",
     "output_type": "stream",
     "text": [
      "Wall time: 0 ns\n"
     ]
    }
   ],
   "source": [
    "%%time\n",
    "\n",
    "distances = distance_matrix(data[:,:2], data[:,:2])"
   ]
  },
  {
   "cell_type": "markdown",
   "id": "resident-rachel",
   "metadata": {},
   "source": [
    "It might not seem like much, but for bigger datasets, the difference becomes more apparent.\n",
    "\n",
    "Next we create a function which sorts the indices of the distances in a given row of the matrix."
   ]
  },
  {
   "cell_type": "code",
   "execution_count": 11,
   "id": "quick-allocation",
   "metadata": {},
   "outputs": [],
   "source": [
    "def knn_indices(idx, k):\n",
    "    return np.argsort(distances[idx])[:k]"
   ]
  },
  {
   "cell_type": "markdown",
   "id": "artificial-passing",
   "metadata": {},
   "source": [
    "We use this to find the indices of the three closest neigbours."
   ]
  },
  {
   "cell_type": "code",
   "execution_count": 12,
   "id": "violent-oasis",
   "metadata": {},
   "outputs": [
    {
     "data": {
      "text/plain": [
       "array([22,  4, 39], dtype=int64)"
      ]
     },
     "execution_count": 12,
     "metadata": {},
     "output_type": "execute_result"
    }
   ],
   "source": [
    "knn_indices(22, 3)"
   ]
  },
  {
   "cell_type": "markdown",
   "id": "danish-advance",
   "metadata": {},
   "source": [
    "Then we can index our data with these indices and retrieve their classes from column 2."
   ]
  },
  {
   "cell_type": "code",
   "execution_count": 13,
   "id": "rising-mobile",
   "metadata": {},
   "outputs": [
    {
     "data": {
      "text/plain": [
       "array([1., 1., 1.])"
      ]
     },
     "execution_count": 13,
     "metadata": {},
     "output_type": "execute_result"
    }
   ],
   "source": [
    "data[knn_indices(22, 3),2]"
   ]
  },
  {
   "cell_type": "markdown",
   "id": "opening-smooth",
   "metadata": {},
   "source": [
    "We formalize this with a function, where we retrieve the indices, get the classes, and return the majority."
   ]
  },
  {
   "cell_type": "code",
   "execution_count": 14,
   "id": "executed-sword",
   "metadata": {},
   "outputs": [],
   "source": [
    "def knn_class(idx, k):\n",
    "    indices = knn_indices(idx, k)\n",
    "    classes = data[indices]\n",
    "    zeros = np.sum(classes == 0)\n",
    "    ones = np.sum(classes == 1)\n",
    "    if zeros > ones:\n",
    "        return 0\n",
    "    else:\n",
    "        return 1\n",
    "\n",
    "data_predict = np.array([knn_class(i, 3) for i in range(len(data))])"
   ]
  },
  {
   "cell_type": "markdown",
   "id": "realistic-finding",
   "metadata": {},
   "source": [
    "Let's see how well the KNN with 3 neighbours predicts our dataset. We generate the data of the confusion matrix, a particularily useful method to see how accurate our method is. \n",
    "\n",
    "We do this by simply generating boolean arrays which we later combine."
   ]
  },
  {
   "cell_type": "code",
   "execution_count": 15,
   "id": "seventh-insight",
   "metadata": {},
   "outputs": [],
   "source": [
    "pred_cl0 = data_predict == 0 # Boolean array of predicted class 0\n",
    "pred_cl1 = data_predict == 1 # Boolean array of predicted class 1\n",
    "act_cl0 = data[:,2] == 0 # Boolean array of true class 0\n",
    "act_cl1 = data[:,2] == 1 # Boolean array of true class 1\n",
    "\n",
    "tn = pred_cl0 & act_cl0 # True negatives\n",
    "fn = pred_cl0 & act_cl1 # False negatives\n",
    "tp = pred_cl1 & act_cl1 # True positives\n",
    "fp = pred_cl1 & act_cl0 # False positives"
   ]
  },
  {
   "cell_type": "markdown",
   "id": "national-beach",
   "metadata": {},
   "source": [
    "Now we visualize these predictions."
   ]
  },
  {
   "cell_type": "code",
   "execution_count": 16,
   "id": "honest-hotel",
   "metadata": {},
   "outputs": [
    {
     "data": {
      "image/png": "[encoded data removed]",
      "text/plain": [
       "<Figure size 432x288 with 1 Axes>"
      ]
     },
     "metadata": {
      "needs_background": "light"
     },
     "output_type": "display_data"
    }
   ],
   "source": [
    "plt.scatter(data[tn, 0], data[tn, 1], color=\"red\", label=\"tn\")\n",
    "plt.scatter(data[fn, 0], data[fn, 1], color=\"orange\", label=\"fn\")\n",
    "plt.scatter(data[tp, 0], data[tp, 1], color=\"green\", label=\"tp\")\n",
    "plt.scatter(data[fp, 0], data[fp, 1], color=\"yellow\", label=\"fp\")\n",
    "plt.legend();"
   ]
  },
  {
   "cell_type": "markdown",
   "id": "faced-conservative",
   "metadata": {},
   "source": [
    "Lastly, we print the different accuracy scores."
   ]
  },
  {
   "cell_type": "code",
   "execution_count": 39,
   "id": "median-fighter",
   "metadata": {},
   "outputs": [
    {
     "name": "stdout",
     "output_type": "stream",
     "text": [
      "accuracy: 0.84\n",
      "tp: 0.48\n",
      "fp: 0.14\n",
      "tn: 0.36\n",
      "fn: 0.02\n"
     ]
    }
   ],
   "source": [
    "print(f\"accuracy: {np.sum(data_predict == data[:,2]) / len(data)}\")\n",
    "print(f\"tp: {np.sum(tp) / len(data)}\")\n",
    "print(f\"fp: {np.sum(fp) / len(data)}\")\n",
    "print(f\"tn: {np.sum(tn) / len(data)}\")\n",
    "print(f\"fn: {np.sum(fn) / len(data)}\")"
   ]
  },
  {
   "cell_type": "markdown",
   "id": "sorted-lighter",
   "metadata": {},
   "source": [
    "In a [confusion matrix](https://en.wikipedia.org/wiki/Confusion_matrix), these numbers are presented in a table like this\n",
    "\n",
    "|   | P  | N  |\n",
    "|---|----|----|\n",
    "| P | TP | FP |\n",
    "| N | FP | TN |"
   ]
  },
  {
   "cell_type": "code",
   "execution_count": null,
   "id": "persistent-collect",
   "metadata": {},
   "outputs": [],
   "source": []
  }
 ],
 "metadata": {
  "kernelspec": {
   "display_name": "Python 3",
   "language": "python",
   "name": "python3"
  },
  "language_info": {
   "codemirror_mode": {
    "name": "ipython",
    "version": 3
   },
   "file_extension": ".py",
   "mimetype": "text/x-python",
   "name": "python",
   "nbconvert_exporter": "python",
   "pygments_lexer": "ipython3",
   "version": "3.7.9"
  }
 },
 "nbformat": 4,
 "nbformat_minor": 5
}
