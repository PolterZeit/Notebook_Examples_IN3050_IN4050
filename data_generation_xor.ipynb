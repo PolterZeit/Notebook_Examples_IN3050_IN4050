{
 "cells": [
  {
   "cell_type": "markdown",
   "id": "relative-values",
   "metadata": {},
   "source": [
    "### Data Generation: XOR Problem\n",
    "\n",
    "For our task with a MLP with SGD we want a non-linearly seperable dataset of two variables. We can utilize the code from the perceptron to generate a noisy XOR dataset which we serialize so we can import it easily later using numpy. We also add a random rotation and shift to our data using an affine transform to make the data more realistic."
   ]
  },
  {
   "cell_type": "code",
   "execution_count": 1,
   "id": "general-housing",
   "metadata": {},
   "outputs": [],
   "source": [
    "%matplotlib inline"
   ]
  },
  {
   "cell_type": "code",
   "execution_count": 2,
   "id": "tribal-welsh",
   "metadata": {},
   "outputs": [],
   "source": [
    "import numpy as np\n",
    "import matplotlib.pyplot as plt\n",
    "import os"
   ]
  },
  {
   "cell_type": "code",
   "execution_count": 3,
   "id": "northern-viking",
   "metadata": {},
   "outputs": [],
   "source": [
    "np.random.seed(42)"
   ]
  },
  {
   "cell_type": "code",
   "execution_count": 4,
   "id": "structured-arrow",
   "metadata": {},
   "outputs": [],
   "source": [
    "n = 20000\n",
    "\n",
    "data = (np.random.rand(n, 2) > 0.5)\n",
    "t_and = (data[:, 0] & data[:, 1]).astype(int)\n",
    "data = data.astype(float)\n",
    "data += np.random.randn(n, 2) * 0.35\n",
    "\n",
    "A = np.array([\n",
    "    [0.7, 0.4],\n",
    "    [-0.3, 1.5]\n",
    "])\n",
    "\n",
    "b = np.array([-0.7, -0.4])\n",
    "\n",
    "data = data @ A + b"
   ]
  },
  {
   "cell_type": "code",
   "execution_count": 5,
   "id": "ranging-thousand",
   "metadata": {},
   "outputs": [],
   "source": [
    "np.savetxt('./data/data_and.csv', data, delimiter=';')\n",
    "np.savetxt('./data/target_and.csv', t_and, delimiter=';')"
   ]
  },
  {
   "cell_type": "code",
   "execution_count": null,
   "id": "dental-compact",
   "metadata": {},
   "outputs": [],
   "source": []
  }
 ],
 "metadata": {
  "kernelspec": {
   "display_name": "Python 3",
   "language": "python",
   "name": "python3"
  },
  "language_info": {
   "codemirror_mode": {
    "name": "ipython",
    "version": 3
   },
   "file_extension": ".py",
   "mimetype": "text/x-python",
   "name": "python",
   "nbconvert_exporter": "python",
   "pygments_lexer": "ipython3",
   "version": "3.7.9"
  }
 },
 "nbformat": 4,
 "nbformat_minor": 5
}
